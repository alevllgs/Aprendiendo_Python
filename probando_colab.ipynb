{
  "nbformat": 4,
  "nbformat_minor": 0,
  "metadata": {
    "colab": {
      "name": "probando_colab.ipynb",
      "provenance": [],
      "authorship_tag": "ABX9TyMJL5x/3yrEXhJlmdAfzsX9"
    },
    "kernelspec": {
      "name": "python3",
      "display_name": "Python 3"
    },
    "language_info": {
      "name": "python"
    }
  },
  "cells": [
    {
      "cell_type": "code",
      "execution_count": 2,
      "metadata": {
        "colab": {
          "base_uri": "https://localhost:8080/"
        },
        "id": "v3CJXgkvCQqT",
        "outputId": "dc39bb27-4e7c-4165-f0d4-bbba4f95a039"
      },
      "outputs": [
        {
          "output_type": "stream",
          "name": "stdout",
          "text": [
            "Ingrese el nombre de los trabajadores del departamento de ventas\n",
            "gato, gata, gatitos\n",
            "gato, gata, gatitos\n",
            "['gato', ' gata', ' gatitos']\n"
          ]
        }
      ],
      "source": [
        "nombres_trabajadores = input(\"Ingrese el nombre de los trabajadores del departamento de ventas\\n\")\n",
        "print(nombres_trabajadores)\n",
        "print(nombres_trabajadores.split(\",\"))"
      ]
    },
    {
      "cell_type": "markdown",
      "source": [
        "quiero comentar algo"
      ],
      "metadata": {
        "id": "88ddUR7-DEkx"
      }
    },
    {
      "cell_type": "markdown",
      "source": [
        "quiero comentar algo"
      ],
      "metadata": {
        "id": "mlzmOmDnDX5W"
      }
    },
    {
      "cell_type": "code",
      "source": [
        "print(\"Hola Mundo\")"
      ],
      "metadata": {
        "colab": {
          "base_uri": "https://localhost:8080/"
        },
        "id": "S4QgIxRZDb4J",
        "outputId": "1fe75cac-abab-4b8d-ebc4-bed22fd9e493"
      },
      "execution_count": 3,
      "outputs": [
        {
          "output_type": "stream",
          "name": "stdout",
          "text": [
            "Hola Mundo\n"
          ]
        }
      ]
    }
  ]
}